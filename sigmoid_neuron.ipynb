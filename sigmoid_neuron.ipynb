{
  "nbformat": 4,
  "nbformat_minor": 0,
  "metadata": {
    "colab": {
      "provenance": []
    },
    "kernelspec": {
      "name": "python3",
      "display_name": "Python 3"
    },
    "language_info": {
      "name": "python"
    }
  },
  "cells": [
    {
      "cell_type": "code",
      "execution_count": null,
      "metadata": {
        "id": "nfcJKRDyO8A7"
      },
      "outputs": [],
      "source": [
        "import numpy as np\n",
        "import matplotlib.pyplot as plt\n",
        "import math\n",
        "\n",
        "\n",
        "def sigmoid_activation(x):\n",
        "  return (1/(1+np.exp(-x)))\n",
        "\n",
        "def derivative_sigmoid(y):\n",
        "  return ((sigmoid_activation(y)*(1-sigmoid_activation(y))))\n",
        "\n",
        "def error(target,calculated):\n",
        "  return (calculated-target)\n"
      ]
    },
    {
      "cell_type": "code",
      "source": [
        "num=sigmoid_activation(5)\n",
        "print(num)"
      ],
      "metadata": {
        "id": "IWJxWjWJPNJK"
      },
      "execution_count": null,
      "outputs": []
    },
    {
      "cell_type": "code",
      "source": [
        "W1=np.array([[0.15,0.20],[0.25,0.30]])\n",
        "print(W1)\n",
        "W2=np.array([[0.40,0.45],[0.50,0.55]])\n",
        "print(W2[0][1])\n",
        "b1=np.array([[0.35],[0.35]])\n",
        "b2=np.array([[0.60],[0.60]])\n",
        "X=np.array([[0.05],[0.10]])\n",
        "H1_in=(np.dot(W1,X))+b1\n",
        "print(\"input of H1\")\n",
        "print(H1_in)\n",
        "H1_out=sigmoid_activation(H1_in)\n",
        "print(\"Output of  H1\")\n",
        "print(H1_out)\n",
        "H1_derivative=derivative_sigmoid(H1_in)\n",
        "print(\"Derivative of H1:\")\n",
        "print(H1_derivative)"
      ],
      "metadata": {
        "colab": {
          "base_uri": "https://localhost:8080/"
        },
        "id": "Rw4xS3qCPPC2",
        "outputId": "43a9bff0-cf13-4f1a-a1b4-0d353ae4ff35"
      },
      "execution_count": null,
      "outputs": [
        {
          "output_type": "stream",
          "name": "stdout",
          "text": [
            "[[0.15 0.2 ]\n",
            " [0.25 0.3 ]]\n",
            "0.45\n",
            "input of H1\n",
            "[[0.3775]\n",
            " [0.3925]]\n",
            "Output of  H1\n",
            "[[0.59326999]\n",
            " [0.59688438]]\n",
            "Derivative of H1:\n",
            "[[0.24130071]\n",
            " [0.24061342]]\n"
          ]
        }
      ]
    },
    {
      "cell_type": "code",
      "source": [
        "H2_in=(np.dot(W2,H1_out))+b2\n",
        "print(\"input of H2\")\n",
        "print(H2_in)\n",
        "H2_out=sigmoid_activation(H2_in)\n",
        "print(\"Output of H2\")\n",
        "print(H2_out)\n",
        "H2_derivative=derivative_sigmoid(H2_in)\n",
        "print(\"Derivative of H2:\")\n",
        "print(H2_derivative)"
      ],
      "metadata": {
        "colab": {
          "base_uri": "https://localhost:8080/"
        },
        "id": "RAVb_6JQPQ0H",
        "outputId": "0aa8529b-aefa-43f7-f5b6-dccc6f5e7c3e"
      },
      "execution_count": null,
      "outputs": [
        {
          "output_type": "stream",
          "name": "stdout",
          "text": [
            "input of H2\n",
            "[[1.10590597]\n",
            " [1.2249214 ]]\n",
            "Output of H2\n",
            "[[0.75136507]\n",
            " [0.77292847]]\n",
            "Derivative of H2:\n",
            "[[0.1868156 ]\n",
            " [0.17551005]]\n"
          ]
        }
      ]
    },
    {
      "cell_type": "code",
      "source": [
        "Error01=(1/2)*((error(0.01,H2_out[0]))**2)\n",
        "Error02=(1/2)*((error(0.99,H2_out[1]))**2)\n",
        "TotalError=Error01+Error02\n",
        "print(Error01,Error02)\n",
        "print(\"The total error is :\",TotalError)"
      ],
      "metadata": {
        "colab": {
          "base_uri": "https://localhost:8080/"
        },
        "id": "hGXIppiSPS-X",
        "outputId": "6b89a73f-db14-4f5b-ef61-9cba635111ee"
      },
      "execution_count": null,
      "outputs": [
        {
          "output_type": "stream",
          "name": "stdout",
          "text": [
            "[0.27481108] [0.02356003]\n",
            "The total error is : [0.29837111]\n"
          ]
        }
      ]
    },
    {
      "cell_type": "code",
      "source": [
        "print(error(0.01,H2_out[0]))\n",
        "changeinW10=error(0.01,H2_out[0][0])*H2_derivative[0][0]*H1_out[0][0]\n",
        "print(changeinW10)"
      ],
      "metadata": {
        "colab": {
          "base_uri": "https://localhost:8080/"
        },
        "id": "xsq01Z1CPU2O",
        "outputId": "e617fe3a-4a52-4ff9-f2cf-9d7c93d9bbef"
      },
      "execution_count": null,
      "outputs": [
        {
          "output_type": "stream",
          "name": "stdout",
          "text": [
            "[0.74136507]\n",
            "0.08216704056423078\n"
          ]
        }
      ]
    },
    {
      "cell_type": "code",
      "source": [
        "target=np.array([[0.01],[0.99]])\n",
        "changeinW2=np.zeros((2,2))\n",
        "print(error(0.01,H2_out[0][0]))\n",
        "print(H2_derivative[0][0])\n",
        "print(H1_out[0][0])\n",
        "changeinW2[0][0]=error(0.01,H2_out[0][0])*H2_derivative[0][0]*H1_out[0][0]\n",
        "print(changeinW2[0][0])\n",
        "changeinW2[1][0]=error(0.99,H2_out[1][0])*H2_derivative[1][0]*H1_out[0][0]\n",
        "print(changeinW2[1][0])\n",
        "changeinW2[0][1]=error(0.01,H2_out[0][0])*H2_derivative[0][0]*H1_out[1][0]\n",
        "print(changeinW2[0][1])\n",
        "changeinW2[1][1]=error(0.99,H2_out[1][0])*H2_derivative[1][0]*H1_out[1][0]\n",
        "print(changeinW2[1][1])\n",
        "print(changeinW2)\n",
        "print(\"**************************************************************\")\n",
        "for i in range(0,2):\n",
        "  for j in range(0,2):\n",
        "    h_out=H1_out[i][0]\n",
        "    derivative = H2_derivative[j][0]\n",
        "    errors=error(target[j][0],H2_out[j][0])\n",
        "    changeinW2[i][j]=h_out*derivative*errors\n",
        "changeinW2=changeinW2.transpose()\n",
        "print(changeinW2)"
      ],
      "metadata": {
        "colab": {
          "base_uri": "https://localhost:8080/"
        },
        "id": "H6QyVaLcPWyC",
        "outputId": "1c4103bd-010a-4097-afc5-db2387aaddf5"
      },
      "execution_count": null,
      "outputs": [
        {
          "output_type": "stream",
          "name": "stdout",
          "text": [
            "0.7413650695523157\n",
            "0.18681560180895948\n",
            "0.5932699921071872\n",
            "0.08216704056423078\n",
            "-0.022602540477475067\n",
            "0.08266762784753326\n",
            "-0.02274024221597822\n",
            "[[ 0.08216704  0.08266763]\n",
            " [-0.02260254 -0.02274024]]\n",
            "**************************************************************\n",
            "[[ 0.08216704  0.08266763]\n",
            " [-0.02260254 -0.02274024]]\n"
          ]
        }
      ]
    },
    {
      "cell_type": "code",
      "source": [
        "W2_new=np.zeros((2,2))\n",
        "#W2_new[0][0]=W2[0][0]-(0.50*changeinW2[0][0])\n",
        "#print(W2_new[0][0])\n",
        "\n",
        "W2_new=W2-(0.5*changeinW2)\n",
        "print(W2_new)"
      ],
      "metadata": {
        "colab": {
          "base_uri": "https://localhost:8080/"
        },
        "id": "M-GFNX31PYow",
        "outputId": "651ea97b-e29e-4d92-c03f-9d4a4473f522"
      },
      "execution_count": null,
      "outputs": [
        {
          "output_type": "stream",
          "name": "stdout",
          "text": [
            "[[0.35891648 0.40866619]\n",
            " [0.51130127 0.56137012]]\n"
          ]
        }
      ]
    },
    {
      "cell_type": "code",
      "source": [
        "target=np.array([[0.01],[0.99]])\n",
        "changeinW1=np.zeros((2,2))\n",
        "for i in range(0,2):\n",
        "  for j in range(0,2):\n",
        "    input=X[i][0]\n",
        "    if (j==0):\n",
        "      sum=(W2[0][0]*H2_derivative[0][0]*error(target[0][0],H2_out[0][0])) + (W2[0][1]*H2_derivative[1][0]*error(target[1][0],H2_out[1][0]))\n",
        "    else:\n",
        "      sum=(W2[1][0]*H2_derivative[0][0]*error(target[0][0],H2_out[0][0])) + (W2[1][1]*H2_derivative[1][0]*error(target[1][0],H2_out[1][0]))\n",
        "    changeinW1[i][j]=input*H1_derivative[j][0]*sum\n",
        "    #changeinW1[i][j]=input*H1_derivative[j][0]*((W2[i][j]*H2_derivative[j][0]*error(target[j][0],H2_out[j][0])) + (W2[i][j]*H2_derivative[j][0]*error(target[j][0],H2_out[j][0])))\n",
        "changeinW1=changeinW1.transpose()\n",
        "print(changeinW1)\n"
      ],
      "metadata": {
        "colab": {
          "base_uri": "https://localhost:8080/"
        },
        "id": "wL_rm1_2PeVZ",
        "outputId": "7627a148-3511-420b-c210-79e5b193c6da"
      },
      "execution_count": null,
      "outputs": [
        {
          "output_type": "stream",
          "name": "stdout",
          "text": [
            "[[0.00046155 0.0009231 ]\n",
            " [0.00058102 0.00116205]]\n"
          ]
        }
      ]
    },
    {
      "cell_type": "code",
      "source": [
        "W1_new=np.zeros((2,2))\n",
        "#W2_new[0][0]=W2[0][0]-(0.50*changeinW2[0][0])\n",
        "#print(W2_new[0][0])\n",
        "\n",
        "W1_new=W1-(0.5*changeinW1)\n",
        "print(W1_new)"
      ],
      "metadata": {
        "colab": {
          "base_uri": "https://localhost:8080/"
        },
        "id": "y6wYvJw_PgIG",
        "outputId": "0854b3a3-e51a-4658-ac7f-a1ac1a70ec76"
      },
      "execution_count": null,
      "outputs": [
        {
          "output_type": "stream",
          "name": "stdout",
          "text": [
            "[[0.14976922 0.19953845]\n",
            " [0.24970949 0.29941898]]\n"
          ]
        }
      ]
    },
    {
      "cell_type": "code",
      "source": [
        "biasderivative2 = H2_derivative[0][0]\n",
        "biaserrors2=error(target[0][0],H2_out[0][0])\n",
        "changeinB2=np.zeros((2,1))\n",
        "changeinB2[0][0]=biasderivative2*biaserrors2\n",
        "changeinB2[1][0]=biasderivative2*biaserrors2\n",
        "print(changeinB2)\n",
        "\n",
        "b2=b2-(0.5*changeinB2)\n",
        "print(b2) #new b2"
      ],
      "metadata": {
        "colab": {
          "base_uri": "https://localhost:8080/"
        },
        "id": "-ViW1ak5Phy8",
        "outputId": "00db7b3e-70b7-4708-b9f0-ecc7f66b50a9"
      },
      "execution_count": null,
      "outputs": [
        {
          "output_type": "stream",
          "name": "stdout",
          "text": [
            "[[0.13849856]\n",
            " [0.13849856]]\n",
            "[[0.53075072]\n",
            " [0.53075072]]\n"
          ]
        }
      ]
    },
    {
      "cell_type": "code",
      "source": [
        "sum=(W2[0][0]*H2_derivative[0][0]*error(target[0][0],H2_out[0][0])) + (W2[0][1]*H2_derivative[1][0]*error(target[1][0],H2_out[1][0]))\n",
        "changeinB1=np.zeros((2,1))\n",
        "changeinB1[0][0]=H1_derivative[0][0]*sum\n",
        "changeinB1[1][0]=H1_derivative[0][0]*sum\n",
        "print(changeinB1)\n",
        "b1=b1-(0.5*changeinB1)\n",
        "print(b1) #new b1"
      ],
      "metadata": {
        "colab": {
          "base_uri": "https://localhost:8080/"
        },
        "id": "-lrkM8GxPkKz",
        "outputId": "7f8c384f-1ffe-4603-eb78-29cb9e3fa1c6"
      },
      "execution_count": null,
      "outputs": [
        {
          "output_type": "stream",
          "name": "stdout",
          "text": [
            "[[0.00923101]\n",
            " [0.00923101]]\n",
            "[[0.34538449]\n",
            " [0.34538449]]\n"
          ]
        }
      ]
    },
    {
      "cell_type": "code",
      "source": [
        "W1=np.array([[0.15,0.20],[0.25,0.30]])\n",
        "\n",
        "W2=np.array([[0.40,0.45],[0.50,0.55]])\n",
        "\n",
        "b1=np.array([[0.35],[0.35]])\n",
        "b2=np.array([[0.60],[0.60]])\n",
        "X=np.array([[0.05],[0.10]])\n",
        "target=np.array([[0.01],[0.99]])\n",
        "changeinW2=np.zeros((2,2))\n",
        "changeinW1=np.zeros((2,2))\n",
        "W2_new=np.zeros((2,2))\n",
        "W1_new=np.zeros((2,2))\n",
        "error_list=[]\n",
        "xpoints_list=[]\n",
        "for k in range (0,1000): #20085\n",
        "  H1_in=(np.dot(W1,X))+b1\n",
        "\n",
        "  H1_out=sigmoid_activation(H1_in)\n",
        "\n",
        "  H1_derivative=derivative_sigmoid(H1_in)\n",
        "\n",
        "  H2_in=(np.dot(W2,H1_out))+b2\n",
        "\n",
        "  H2_out=sigmoid_activation(H2_in)\n",
        "\n",
        "  H2_derivative=derivative_sigmoid(H2_in)\n",
        "\n",
        "  Error01=(1/2)*((error(0.01,H2_out[0]))**2)\n",
        "  Error02=(1/2)*((error(0.99,H2_out[1]))**2)\n",
        "  TotalError=Error01+Error02\n",
        "  error_list.append(TotalError)\n",
        "  xpoints_list.append(k)\n",
        "  for i in range(0,2):\n",
        "    for j in range(0,2):\n",
        "      h_out=H1_out[i][0]\n",
        "      derivative = H2_derivative[j][0]\n",
        "      errors=error(target[j][0],H2_out[j][0])\n",
        "      changeinW2[i][j]=h_out*derivative*errors\n",
        "    changeinW2=changeinW2.transpose()\n",
        "\n",
        "\n",
        "  W2=W2-(0.5*changeinW2) #learning rate=0.5\n",
        "\n",
        "  for i in range(0,2):\n",
        "    for j in range(0,2):\n",
        "      input=X[i][0]\n",
        "      if (j==0):\n",
        "        sum=(W2[0][0]*H2_derivative[0][0]*error(target[0][0],H2_out[0][0])) + (W2[0][1]*H2_derivative[1][0]*error(target[1][0],H2_out[1][0]))\n",
        "      else:\n",
        "        sum=(W2[1][0]*H2_derivative[0][0]*error(target[0][0],H2_out[0][0])) + (W2[1][1]*H2_derivative[1][0]*error(target[1][0],H2_out[1][0]))\n",
        "      changeinW1[i][j]=input*H1_derivative[j][0]*sum\n",
        "    #changeinW1[i][j]=input*H1_derivative[j][0]*((W2[i][j]*H2_derivative[j][0]*error(target[j][0],H2_out[j][0])) + (W2[i][j]*H2_derivative[j][0]*error(target[j][0],H2_out[j][0])))\n",
        "    changeinW1=changeinW1.transpose()\n",
        "\n",
        "\n",
        "  W1=W1-(0.5*changeinW1)\n",
        "\n",
        "  # biasderivative2 = H2_derivative[0][0]\n",
        "  # biaserrors2=error(target[0][0],H2_out[0][0])\n",
        "  # changeinB2=np.zeros((2,1))\n",
        "  # changeinB2[0][0]=biasderivative2*biaserrors2\n",
        "  # changeinB2[1][0]=biasderivative2*biaserrors2\n",
        "  # #print(changeinB2)\n",
        "  # b2=b2-(0.5*changeinB2)\n",
        "  # #print(b2) #new b2\n",
        "\n",
        "  # sumbias=(W2[0][0]*H2_derivative[0][0]*error(target[0][0],H2_out[0][0])) + (W2[0][1]*H2_derivative[1][0]*error(target[1][0],H2_out[1][0]))\n",
        "  # changeinB1=np.zeros((2,1))\n",
        "  # changeinB1[0][0]=H1_derivative[0][0]*sumbias\n",
        "  # changeinB1[1][0]=H1_derivative[0][0]*sumbias\n",
        "  #print(changeinB1)\n",
        "  # b1=b1-(0.5*changeinB1)\n",
        "  #print(b1) #new b1\n",
        "# W1=W1_new\n",
        "# W2=W2_new\n",
        "print(W1)\n",
        "print(W2)\n",
        "print(H2_out)\n",
        "print(error_list[-1])\n",
        "xpoints = np.array(xpoints_list)\n",
        "ypoints = np.array(error_list)\n",
        "\n",
        "plt.plot(xpoints, ypoints)\n",
        "plt.show()"
      ],
      "metadata": {
        "colab": {
          "base_uri": "https://localhost:8080/",
          "height": 557
        },
        "id": "Z4TrgBtvPl0B",
        "outputId": "54426439-1ce0-471c-8193-845c77050eb9"
      },
      "execution_count": null,
      "outputs": [
        {
          "output_type": "stream",
          "name": "stdout",
          "text": [
            "[[0.14244661 0.18489322]\n",
            " [0.25       0.41666068]]\n",
            "[[-3.08442968 -3.05331409]\n",
            " [ 0.5         3.09883616]]\n",
            "[[0.04483061]\n",
            " [0.94015191]]\n",
            "[0.001849]\n"
          ]
        },
        {
          "output_type": "display_data",
          "data": {
            "text/plain": [
              "<Figure size 640x480 with 1 Axes>"
            ],
            "image/png": "[encoded data removed]"
          },
          "metadata": {}
        }
      ]
    },
    {
      "cell_type": "code",
      "source": [
        "W1=np.array([[0.15,0.20],[0.25,0.30]])\n",
        "\n",
        "W2=np.array([[0.40,0.45],[0.50,0.55]])\n",
        "\n",
        "b1=np.array([[0.35],[0.35]])\n",
        "b2=np.array([[0.60],[0.60]])\n",
        "X=np.array([[0.05],[0.10]])\n",
        "target=np.array([[0.01],[0.99]])\n",
        "changeinW2=np.zeros((2,2))\n",
        "changeinW1=np.zeros((2,2))\n",
        "W2_new=np.zeros((2,2))\n",
        "W1_new=np.zeros((2,2))\n",
        "error_list=[]\n",
        "xpoints_list=[]\n",
        "for k in range (0,1000): #20085\n",
        "  H1_in=(np.dot(W1,X))+b1\n",
        "\n",
        "  H1_out=sigmoid_activation(H1_in)\n",
        "\n",
        "  H1_derivative=derivative_sigmoid(H1_in)\n",
        "\n",
        "  H2_in=(np.dot(W2,H1_out))+b2\n",
        "\n",
        "  H2_out=sigmoid_activation(H2_in)\n",
        "\n",
        "  H2_derivative=derivative_sigmoid(H2_in)\n",
        "\n",
        "  Error01=(1/2)*((error(0.01,H2_out[0]))**2)\n",
        "  Error02=(1/2)*((error(0.99,H2_out[1]))**2)\n",
        "  TotalError=Error01+Error02\n",
        "  error_list.append(TotalError)\n",
        "  xpoints_list.append(k)\n",
        "  for i in range(0,2):\n",
        "    for j in range(0,2):\n",
        "      h_out=H1_out[i][0]\n",
        "      derivative = H2_derivative[j][0]\n",
        "      errors=error(target[j][0],H2_out[j][0])\n",
        "      changeinW2[i][j]=h_out*derivative*errors\n",
        "    changeinW2=changeinW2.transpose()\n",
        "\n",
        "\n",
        "  W2=W2-(0.5*changeinW2) #learning rate=0.5\n",
        "\n",
        "  for i in range(0,2):\n",
        "    for j in range(0,2):\n",
        "      input=X[i][0]\n",
        "      if (j==0):\n",
        "        sum=(W2[0][0]*H2_derivative[0][0]*error(target[0][0],H2_out[0][0])) + (W2[0][1]*H2_derivative[1][0]*error(target[1][0],H2_out[1][0]))\n",
        "      else:\n",
        "        sum=(W2[1][0]*H2_derivative[0][0]*error(target[0][0],H2_out[0][0])) + (W2[1][1]*H2_derivative[1][0]*error(target[1][0],H2_out[1][0]))\n",
        "      changeinW1[i][j]=input*H1_derivative[j][0]*sum\n",
        "    #changeinW1[i][j]=input*H1_derivative[j][0]*((W2[i][j]*H2_derivative[j][0]*error(target[j][0],H2_out[j][0])) + (W2[i][j]*H2_derivative[j][0]*error(target[j][0],H2_out[j][0])))\n",
        "    changeinW1=changeinW1.transpose()\n",
        "\n",
        "\n",
        "  W1=W1-(0.5*changeinW1)\n",
        "\n",
        "  biasderivative2 = H2_derivative[0][0]\n",
        "  biaserrors2=error(target[0][0],H2_out[0][0])\n",
        "  changeinB2=np.zeros((2,1))\n",
        "  changeinB2[0][0]=biasderivative2*biaserrors2\n",
        "  changeinB2[1][0]=biasderivative2*biaserrors2\n",
        "  #print(changeinB2)\n",
        "  b2=b2-(0.5*changeinB2)\n",
        "  #print(b2) #new b2\n",
        "\n",
        "\n",
        "  changeinB1=np.zeros((2,1))\n",
        "  changeinB1[0][0]=(error(target[1][0],H2_out[0][0])*H2_derivative[0][0]*W2[1][0]*H1_derivative[1][0])+(error(target[1][0],H2_out[1][0])*H2_derivative[1][0]*W2[1][1]*H1_derivative[0][0])\n",
        "  changeinB1[1][0]=(error(target[1][0],H2_out[0][0])*H2_derivative[0][0]*W2[1][0]*H1_derivative[1][0])+(error(target[1][0],H2_out[1][0])*H2_derivative[1][0]*W2[1][1]*H1_derivative[0][0])\n",
        "  #print(changeinB1)\n",
        "  b1=b1-(0.5*changeinB1)\n",
        "  #print(b1) #new b1\n",
        "# W1=W1_new\n",
        "# W2=W2_new\n",
        "print(W1)\n",
        "print(W2)\n",
        "print(H2_out)\n",
        "print(error_list[-1])\n",
        "xpoints = np.array(xpoints_list)\n",
        "ypoints = np.array(error_list)\n",
        "\n",
        "plt.plot(xpoints, ypoints)\n",
        "plt.show()"
      ],
      "metadata": {
        "colab": {
          "base_uri": "https://localhost:8080/",
          "height": 557
        },
        "id": "huOerbDSPpaK",
        "outputId": "d7f69dab-689a-4711-8b85-eedbc5b1fd16"
      },
      "execution_count": null,
      "outputs": [
        {
          "output_type": "stream",
          "name": "stdout",
          "text": [
            "[[0.13581889 0.17163779]\n",
            " [0.25       0.42243786]]\n",
            "[[-1.15565816 -1.11285054]\n",
            " [ 0.5         4.50709538]]\n",
            "[[0.02280289]\n",
            " [0.95788988]]\n",
            "[0.00059749]\n"
          ]
        },
        {
          "output_type": "display_data",
          "data": {
            "text/plain": [
              "<Figure size 640x480 with 1 Axes>"
            ],
            "image/png": "[encoded data removed]"
          },
          "metadata": {}
        }
      ]
    }
  ]
}