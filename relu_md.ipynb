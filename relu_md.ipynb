{
  "nbformat": 4,
  "nbformat_minor": 0,
  "metadata": {
    "colab": {
      "provenance": []
    },
    "kernelspec": {
      "name": "python3",
      "display_name": "Python 3"
    },
    "language_info": {
      "name": "python"
    }
  },
  "cells": [
    {
      "cell_type": "code",
      "execution_count": null,
      "metadata": {
        "id": "gOozOh-SQZEK"
      },
      "outputs": [],
      "source": [
        "import numpy as np\n",
        "import matplotlib.pyplot as plt\n",
        "import math\n",
        "\n",
        "\n",
        "def sigmoid_activation(x):\n",
        "  return (1/(1+np.exp(-x)))\n",
        "\n",
        "def derivative_sigmoid(y):\n",
        "  return ((sigmoid_activation(y)*(1-sigmoid_activation(y))))\n",
        "\n",
        "def error(target,calculated):\n",
        "  return (calculated-target)\n",
        "\n",
        "def relu(x):\n",
        "  return np.maximum(0,x)\n",
        "\n",
        "def derivative_relu(x):\n",
        "  x[x<=0]=0\n",
        "  x[x>0]=1\n",
        "  return x"
      ]
    },
    {
      "cell_type": "code",
      "source": [
        "W1=np.array([[0.15,0.20],[0.25,0.30]])\n",
        "\n",
        "W2=np.array([[0.40,0.45],[0.50,0.55]])\n",
        "\n",
        "b1=np.array([[0.35],[0.35]])\n",
        "b2=np.array([[0.60],[0.60]])\n",
        "X=np.array([[0.05],[0.10]])\n",
        "target=np.array([[0.01],[0.99]])\n",
        "changeinW2=np.zeros((2,2))\n",
        "changeinW1=np.zeros((2,2))\n",
        "W2_new=np.zeros((2,2))\n",
        "W1_new=np.zeros((2,2))\n",
        "error_list=[]\n",
        "xpoints_list=[]\n",
        "for k in range (0,4): #20085\n",
        "  H1_in=(np.dot(W1,X))+b1\n",
        "\n",
        "  H1_out=relu(H1_in)\n",
        "\n",
        "  H1_derivative=derivative_relu(H1_in)\n",
        "\n",
        "  H2_in=(np.dot(W2,H1_out))+b2\n",
        "\n",
        "  H2_out=relu(H2_in)\n",
        "\n",
        "  H2_derivative=derivative_relu(H2_in)\n",
        "\n",
        "  Error01=(1/2)*((error(0.01,H2_out[0]))**2)\n",
        "  Error02=(1/2)*((error(0.99,H2_out[1]))**2)\n",
        "  TotalError=Error01+Error02\n",
        "  error_list.append(TotalError)\n",
        "  xpoints_list.append(k)\n",
        "  for i in range(0,2):\n",
        "    for j in range(0,2):\n",
        "      h_out=H1_out[i][0]\n",
        "      derivative = H2_derivative[j][0]\n",
        "      errors=error(target[j][0],H2_out[j][0])\n",
        "      changeinW2[i][j]=h_out*derivative*errors\n",
        "    changeinW2=changeinW2.transpose()\n",
        "\n",
        "\n",
        "  W2=W2-(0.5*changeinW2) #learning rate=0.5\n",
        "\n",
        "  for i in range(0,2):\n",
        "    for j in range(0,2):\n",
        "      input=X[i][0]\n",
        "      if (j==0):\n",
        "        sum=(W2[0][0]*H2_derivative[0][0]*error(target[0][0],H2_out[0][0])) + (W2[0][1]*H2_derivative[1][0]*error(target[1][0],H2_out[1][0]))\n",
        "      else:\n",
        "        sum=(W2[1][0]*H2_derivative[0][0]*error(target[0][0],H2_out[0][0])) + (W2[1][1]*H2_derivative[1][0]*error(target[1][0],H2_out[1][0]))\n",
        "      changeinW1[i][j]=input*H1_derivative[j][0]*sum\n",
        "    #changeinW1[i][j]=input*H1_derivative[j][0]*((W2[i][j]*H2_derivative[j][0]*error(target[j][0],H2_out[j][0])) + (W2[i][j]*H2_derivative[j][0]*error(target[j][0],H2_out[j][0])))\n",
        "    changeinW1=changeinW1.transpose()\n",
        "\n",
        "\n",
        "  W1=W1-(0.5*changeinW1)\n",
        "\n",
        "  biasderivative2 = H2_derivative[0][0]\n",
        "  biaserrors2=error(target[0][0],H2_out[0][0])\n",
        "  changeinB2=np.zeros((2,1))\n",
        "  changeinB2[0][0]=biasderivative2*biaserrors2\n",
        "  changeinB2[1][0]=biasderivative2*biaserrors2\n",
        "  #print(changeinB2)\n",
        "  b2=b2-(0.5*changeinB2)\n",
        "  #print(b2) #new b2\n",
        "\n",
        "\n",
        "  changeinB1=np.zeros((2,1))\n",
        "  changeinB1[0][0]=(error(target[1][0],H2_out[0][0])*H2_derivative[0][0]*W2[1][0]*H1_derivative[1][0])+(error(target[1][0],H2_out[1][0])*H2_derivative[1][0]*W2[1][1]*H1_derivative[0][0])\n",
        "  changeinB1[1][0]=(error(target[1][0],H2_out[0][0])*H2_derivative[0][0]*W2[1][0]*H1_derivative[1][0])+(error(target[1][0],H2_out[1][0])*H2_derivative[1][0]*W2[1][1]*H1_derivative[0][0])\n",
        "  #print(changeinB1)\n",
        "  b1=b1-(0.5*changeinB1)\n",
        "  #print(b1) #new b1\n",
        "# W1=W1_new\n",
        "# W2=W2_new\n",
        "print(W1)\n",
        "print(W2)\n",
        "print(H2_out)\n",
        "print(error_list[-1])\n",
        "xpoints = np.array(xpoints_list)\n",
        "ypoints = np.array(error_list)\n",
        "\n",
        "plt.plot(xpoints, ypoints)\n",
        "plt.show()"
      ],
      "metadata": {
        "colab": {
          "base_uri": "https://localhost:8080/",
          "height": 557
        },
        "id": "eJiZ8nTSQd4S",
        "outputId": "a239443c-d227-49ae-ddd7-2cf6a034197c"
      },
      "execution_count": null,
      "outputs": [
        {
          "output_type": "stream",
          "name": "stdout",
          "text": [
            "[[0.14559606 0.19119213]\n",
            " [0.25       0.28146854]]\n",
            "[[0.0574652  0.0962531 ]\n",
            " [0.5        0.68981691]]\n",
            "[[0.0701794 ]\n",
            " [1.03667788]]\n",
            "[0.00290019]\n"
          ]
        },
        {
          "output_type": "display_data",
          "data": {
            "text/plain": [
              "<Figure size 640x480 with 1 Axes>"
            ],
            "image/png": "[encoded data removed]"
          },
          "metadata": {}
        }
      ]
    }
  ]
}